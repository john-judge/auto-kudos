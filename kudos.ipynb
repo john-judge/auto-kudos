{
 "cells": [
  {
   "cell_type": "code",
   "execution_count": 1,
   "id": "5ec37efb",
   "metadata": {},
   "outputs": [],
   "source": [
    "import pyautogui as pa\n",
    "import time\n"
   ]
  },
  {
   "cell_type": "code",
   "execution_count": 2,
   "id": "8ce38e4b",
   "metadata": {},
   "outputs": [],
   "source": [
    "\n",
    "# Update with the path to your screenshot of the thumbs-up icon\n",
    "KUDOS_IMAGE = 'thumbs_up.png'\n",
    "SCROLL_PAUSE = 1.5 # seconds\n",
    "NUM_SCROLLS = 50"
   ]
  },
  {
   "cell_type": "code",
   "execution_count": null,
   "id": "aaf8b82b",
   "metadata": {},
   "outputs": [],
   "source": [
    "def give_kudos():\n",
    "    # Scroll and click thumbs-up icons\n",
    "    total_kudos = 0\n",
    "    for _ in range(NUM_SCROLLS): \n",
    "        try:\n",
    "            locations = list(pa.locateAllOnScreen(KUDOS_IMAGE, confidence=0.9))\n",
    "        except Exception as e:\n",
    "            print(f\"Error locating thumbs-up icon: {e}\")\n",
    "            locations = []\n",
    "        total_kudos += len(locations)\n",
    "        for loc in locations:\n",
    "            pa.moveTo(loc.left + loc.width/2, loc.top + loc.height/2, duration=0.2)\n",
    "            pa.click()\n",
    "            time.sleep(0.5)\n",
    "        print(\"Scrolling down...\")\n",
    "        pa.scroll(-500)  # Scroll down\n",
    "        time.sleep(SCROLL_PAUSE)\n",
    "    print(f\"Total kudos given: {total_kudos}\")\n",
    "\n",
    "if __name__ == \"__main__\":\n",
    "    pa.alert(\"Maximize your browser with Strava feed. After clicking OK, place cursor over an activity, then leave mouse alone.\")\n",
    "    give_kudos()"
   ]
  }
 ],
 "metadata": {
  "kernelspec": {
   "display_name": "auto-kudos",
   "language": "python",
   "name": "python3"
  },
  "language_info": {
   "codemirror_mode": {
    "name": "ipython",
    "version": 3
   },
   "file_extension": ".py",
   "mimetype": "text/x-python",
   "name": "python",
   "nbconvert_exporter": "python",
   "pygments_lexer": "ipython3",
   "version": "3.13.2"
  }
 },
 "nbformat": 4,
 "nbformat_minor": 5
}
